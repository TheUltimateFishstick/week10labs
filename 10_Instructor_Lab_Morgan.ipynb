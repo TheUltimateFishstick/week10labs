{
 "cells": [
  {
   "cell_type": "markdown",
   "id": "a20088a6-6794-4441-b1ca-84e3bbe168da",
   "metadata": {},
   "source": [
    "Troy Morgan  \n",
    "Week 10 Instructor-Led Lab  \n",
    "BGEN 632, Graduate Introduction to Python  \n",
    "Submitted April 29, 2025.    \n",
    "\n",
    "Instructor-led Lab: Data Reduction"
   ]
  },
  {
   "cell_type": "markdown",
   "id": "e30f380c-8ed0-4947-820d-b9e77b2d5d5c",
   "metadata": {},
   "source": [
    "# Setup"
   ]
  },
  {
   "cell_type": "code",
   "execution_count": 35,
   "id": "4a9446aa-5389-4b47-ad91-a10bba9b98a3",
   "metadata": {},
   "outputs": [],
   "source": [
    "# Import modules\n",
    "\n",
    "import os\n",
    "import numpy as np\n",
    "import pandas as pd\n",
    "import matplotlib.pyplot as plt\n",
    "\n",
    "from sklearn.model_selection import train_test_split\n",
    "\n",
    "# for pca\n",
    "from sklearn import preprocessing\n",
    "from sklearn.decomposition import PCA as pca\n",
    "\n",
    "# for factor analysis\n",
    "from factor_analyzer import FactorAnalyzer\n",
    "from factor_analyzer.factor_analyzer import calculate_bartlett_sphericity\n",
    "from factor_analyzer.factor_analyzer import calculate_kmo\n",
    "\n",
    "# for k-means clustering \n",
    "import sklearn.metrics as metcs\n",
    "from scipy.cluster import hierarchy as hier\n",
    "from sklearn import cluster as cls\n",
    "# See reference\n",
    "from sklearn.preprocessing import LabelEncoder\n",
    "\n",
    "# for decision tree \n",
    "from sklearn.feature_extraction.image import grid_to_graph\n",
    "from sklearn import tree\n",
    "\n",
    "# modules for plotting trees\n",
    "from sklearn.tree import export_graphviz\n",
    "import graphviz\n",
    "from IPython.display import display"
   ]
  },
  {
   "cell_type": "code",
   "execution_count": 5,
   "id": "7b160bc1-6572-4d31-ad0e-14b96b0b224e",
   "metadata": {},
   "outputs": [
    {
     "data": {
      "text/plain": [
       "'C:\\\\Users\\\\troy.morgan\\\\Documents\\\\GitHub\\\\week10labs\\\\data'"
      ]
     },
     "execution_count": 5,
     "metadata": {},
     "output_type": "execute_result"
    }
   ],
   "source": [
    "# set working directory and confirm change\n",
    "os.chdir(\"\\\\Users\\\\troy.morgan\\\\Documents\\\\GitHub\\\\week10labs/data\")  # change this to your filepath\n",
    "os.getcwd()  "
   ]
  },
  {
   "cell_type": "code",
   "execution_count": 6,
   "id": "961da697-5f34-4b65-a281-4885a9bb1c69",
   "metadata": {},
   "outputs": [
    {
     "name": "stdout",
     "output_type": "stream",
     "text": [
      "<class 'pandas.core.frame.DataFrame'>\n",
      "RangeIndex: 61 entries, 0 to 60\n",
      "Data columns (total 23 columns):\n",
      " #   Column         Non-Null Count  Dtype  \n",
      "---  ------         --------------  -----  \n",
      " 0   HospitalID     61 non-null     int64  \n",
      " 1   Name           61 non-null     object \n",
      " 2   Zip            61 non-null     object \n",
      " 3   Website        61 non-null     object \n",
      " 4   TypeControl    61 non-null     object \n",
      " 5   Teaching       61 non-null     object \n",
      " 6   DonorType      61 non-null     object \n",
      " 7   NoFTE          61 non-null     float64\n",
      " 8   NetPatRev      61 non-null     float64\n",
      " 9   InOperExp      61 non-null     float64\n",
      " 10  OutOperExp     61 non-null     float64\n",
      " 11  OperRev        61 non-null     int64  \n",
      " 12  OperInc        61 non-null     int64  \n",
      " 13  AvlBeds        61 non-null     int64  \n",
      " 14  Work_ID        61 non-null     int64  \n",
      " 15  LastName       61 non-null     object \n",
      " 16  FirstName      61 non-null     object \n",
      " 17  Gender         61 non-null     object \n",
      " 18  PositionID     61 non-null     int64  \n",
      " 19  PositionTitle  61 non-null     object \n",
      " 20  Compensation   61 non-null     int64  \n",
      " 21  MaxTerm        61 non-null     int64  \n",
      " 22  StartDate      61 non-null     object \n",
      "dtypes: float64(4), int64(8), object(11)\n",
      "memory usage: 11.1+ KB\n"
     ]
    }
   ],
   "source": [
    "# Load data and inspect\n",
    "Cali_Hospital_df = pd.read_table('calihospital.txt')\n",
    "Cali_Hospital_df.info()"
   ]
  },
  {
   "cell_type": "code",
   "execution_count": 9,
   "id": "4fc92c9b-dda1-4f3a-adf0-47dd97f78175",
   "metadata": {},
   "outputs": [
    {
     "name": "stdout",
     "output_type": "stream",
     "text": [
      "<class 'pandas.core.frame.DataFrame'>\n",
      "RangeIndex: 61 entries, 0 to 60\n",
      "Data columns (total 10 columns):\n",
      " #   Column       Non-Null Count  Dtype  \n",
      "---  ------       --------------  -----  \n",
      " 0   TypeControl  61 non-null     object \n",
      " 1   Teaching     61 non-null     object \n",
      " 2   DonorType    61 non-null     object \n",
      " 3   NoFTE        61 non-null     float64\n",
      " 4   NetPatRev    61 non-null     float64\n",
      " 5   InOperExp    61 non-null     float64\n",
      " 6   OutOperExp   61 non-null     float64\n",
      " 7   OperRev      61 non-null     int64  \n",
      " 8   OperInc      61 non-null     int64  \n",
      " 9   AvlBeds      61 non-null     int64  \n",
      "dtypes: float64(4), int64(3), object(3)\n",
      "memory usage: 4.9+ KB\n"
     ]
    }
   ],
   "source": [
    "#Remove columns I won't need for this assignment. \n",
    "Cali_Hospital_df_2 = Cali_Hospital_df.drop(Cali_Hospital_df.columns[[0, 1, 2, 3, 14, 15, 16, 17, 18, 19, 20, 21, 22]], axis = 1)\n",
    "\n",
    "Cali_Hospital_df_2.info()"
   ]
  },
  {
   "cell_type": "markdown",
   "id": "03d3ddc2-a087-4fa3-b00c-0b77faa9cb68",
   "metadata": {},
   "source": [
    "# Principal Component Analysis (PCA) in Python"
   ]
  },
  {
   "cell_type": "code",
   "execution_count": 10,
   "id": "fb198b75-8e9c-4b76-a11f-b23fed593b6e",
   "metadata": {},
   "outputs": [
    {
     "data": {
      "text/html": [
       "<div>\n",
       "<style scoped>\n",
       "    .dataframe tbody tr th:only-of-type {\n",
       "        vertical-align: middle;\n",
       "    }\n",
       "\n",
       "    .dataframe tbody tr th {\n",
       "        vertical-align: top;\n",
       "    }\n",
       "\n",
       "    .dataframe thead th {\n",
       "        text-align: right;\n",
       "    }\n",
       "</style>\n",
       "<table border=\"1\" class=\"dataframe\">\n",
       "  <thead>\n",
       "    <tr style=\"text-align: right;\">\n",
       "      <th></th>\n",
       "      <th>NoFTE</th>\n",
       "      <th>NetPatRev</th>\n",
       "      <th>InOperExp</th>\n",
       "      <th>OutOperExp</th>\n",
       "      <th>OperRev</th>\n",
       "      <th>OperInc</th>\n",
       "      <th>AvlBeds</th>\n",
       "    </tr>\n",
       "  </thead>\n",
       "  <tbody>\n",
       "    <tr>\n",
       "      <th>0</th>\n",
       "      <td>327.0</td>\n",
       "      <td>135520.2186</td>\n",
       "      <td>20523425.53</td>\n",
       "      <td>34916220.47</td>\n",
       "      <td>49933713</td>\n",
       "      <td>-5505933</td>\n",
       "      <td>15</td>\n",
       "    </tr>\n",
       "    <tr>\n",
       "      <th>1</th>\n",
       "      <td>345.0</td>\n",
       "      <td>136156.6913</td>\n",
       "      <td>33447542.78</td>\n",
       "      <td>20348596.22</td>\n",
       "      <td>53351748</td>\n",
       "      <td>-444391</td>\n",
       "      <td>99</td>\n",
       "    </tr>\n",
       "    <tr>\n",
       "      <th>2</th>\n",
       "      <td>601.2</td>\n",
       "      <td>197094.2541</td>\n",
       "      <td>37254178.67</td>\n",
       "      <td>37832448.33</td>\n",
       "      <td>72933707</td>\n",
       "      <td>-2152920</td>\n",
       "      <td>107</td>\n",
       "    </tr>\n",
       "    <tr>\n",
       "      <th>3</th>\n",
       "      <td>400.0</td>\n",
       "      <td>139170.3798</td>\n",
       "      <td>23385570.10</td>\n",
       "      <td>24661355.90</td>\n",
       "      <td>51087341</td>\n",
       "      <td>3040415</td>\n",
       "      <td>55</td>\n",
       "    </tr>\n",
       "    <tr>\n",
       "      <th>4</th>\n",
       "      <td>262.0</td>\n",
       "      <td>116797.8306</td>\n",
       "      <td>13684502.49</td>\n",
       "      <td>15159986.51</td>\n",
       "      <td>42845642</td>\n",
       "      <td>14001153</td>\n",
       "      <td>42</td>\n",
       "    </tr>\n",
       "  </tbody>\n",
       "</table>\n",
       "</div>"
      ],
      "text/plain": [
       "   NoFTE    NetPatRev    InOperExp   OutOperExp   OperRev   OperInc  AvlBeds\n",
       "0  327.0  135520.2186  20523425.53  34916220.47  49933713  -5505933       15\n",
       "1  345.0  136156.6913  33447542.78  20348596.22  53351748   -444391       99\n",
       "2  601.2  197094.2541  37254178.67  37832448.33  72933707  -2152920      107\n",
       "3  400.0  139170.3798  23385570.10  24661355.90  51087341   3040415       55\n",
       "4  262.0  116797.8306  13684502.49  15159986.51  42845642  14001153       42"
      ]
     },
     "execution_count": 10,
     "metadata": {},
     "output_type": "execute_result"
    }
   ],
   "source": [
    "# Create new df of numerical columns and inspect\n",
    "Cali_Hospital_numerical_df = Cali_Hospital_df_2[['NoFTE', 'NetPatRev', 'InOperExp', 'OutOperExp', 'OperRev', 'OperInc', \"AvlBeds\"]]\n",
    "Cali_Hospital_numerical_df.head()"
   ]
  },
  {
   "cell_type": "code",
   "execution_count": 11,
   "id": "8a8a2bdc-f7f1-48af-bc6c-6188675b5efb",
   "metadata": {},
   "outputs": [],
   "source": [
    "# Conduct PCA\n",
    "Cali_Hospital_pca_result = pca(n_components=7).fit(Cali_Hospital_numerical_df)"
   ]
  },
  {
   "cell_type": "code",
   "execution_count": 12,
   "id": "45e49f31-ba3e-4508-ae03-1ee0572b64be",
   "metadata": {},
   "outputs": [
    {
     "data": {
      "text/plain": [
       "array([2.75753261e+17, 6.75028311e+15, 2.04591348e+15, 2.44102791e+09,\n",
       "       3.37008097e+05, 6.33647054e+03, 4.13822759e-05])"
      ]
     },
     "execution_count": 12,
     "metadata": {},
     "output_type": "execute_result"
    }
   ],
   "source": [
    "# Obtain eigenvalues\n",
    "Cali_Hospital_pca_result.explained_variance_"
   ]
  },
  {
   "cell_type": "markdown",
   "id": "22adf594-3ac4-46b0-897e-60bb29cb5d1e",
   "metadata": {},
   "source": [
    "## Based on the eigenvalues, explain how many variables you should keep. Justify your reasoning.\n",
    "\n",
    "Per the eigenvalues, 6 variables should be kept. This is becuase the eigenvalues are all greater than 1. "
   ]
  },
  {
   "cell_type": "code",
   "execution_count": 13,
   "id": "27d75683-8264-4b33-96f9-1d02a48f09ab",
   "metadata": {},
   "outputs": [
    {
     "data": {
      "image/png": "[encoded data removed]",
      "text/plain": [
       "<Figure size 700x500 with 1 Axes>"
      ]
     },
     "metadata": {},
     "output_type": "display_data"
    }
   ],
   "source": [
    "# Create and display a scree plot for the same set of data.\n",
    "\n",
    "# generate scree plot - focus on the output\n",
    "plt.figure(figsize=(7,5))\n",
    "plt.plot([1,2,3,4,5,6,7], Cali_Hospital_pca_result.explained_variance_ratio_, '-o')\n",
    "plt.ylabel('Proportion of Variance Explained') \n",
    "plt.xlabel('Principal Component') \n",
    "plt.xlim(0.75,4.25) \n",
    "plt.ylim(0,1.05) \n",
    "plt.xticks([1,2,3,4,5,6,7])\n",
    "\n",
    "plt.show()"
   ]
  },
  {
   "cell_type": "markdown",
   "id": "46386f5f-aa6f-483d-9518-79caf5b27685",
   "metadata": {},
   "source": [
    "## Based on the scree plot, how many variables should you keep? Why?\n",
    "\n",
    "According to this scree plot, only one variable should be kept. This is becuase the curve seems to flatten with component 2. However, I have a sneaking suspicion that 2 should also be included. Should this data have been scaled? The NoFTA and AvlBeds definitely seem to be on a different scale. So, why not try this again, only following your instructions for scaling. You know, for fun!"
   ]
  },
  {
   "cell_type": "code",
   "execution_count": 14,
   "id": "22480316-27cc-402a-8e1e-9e3136ba4c51",
   "metadata": {},
   "outputs": [],
   "source": [
    "# scale data using standardization\n",
    "scaler = preprocessing.StandardScaler()\n",
    "Cali_Hospital_scaled_df = scaler.fit_transform(Cali_Hospital_numerical_df)\n",
    "\n",
    "# run PCA with scaled data\n",
    "CH_scaled_pca_result = pca(n_components=7).fit(Cali_Hospital_scaled_df)"
   ]
  },
  {
   "cell_type": "code",
   "execution_count": 15,
   "id": "980e6eff-84ea-41b9-bc38-9d4d1f36e132",
   "metadata": {},
   "outputs": [
    {
     "data": {
      "text/plain": [
       "array([5.72134563e+00, 1.07657967e+00, 1.91383827e-01, 9.31699632e-02,\n",
       "       3.29143500e-02, 1.27322677e-03, 5.91421134e-22])"
      ]
     },
     "execution_count": 15,
     "metadata": {},
     "output_type": "execute_result"
    }
   ],
   "source": [
    "# Obtain eigenvalues from the scaled data\n",
    "CH_scaled_pca_result.explained_variance_"
   ]
  },
  {
   "cell_type": "markdown",
   "id": "cb278c45-6867-4904-94ce-d67b4f7be430",
   "metadata": {},
   "source": [
    "## Based on the eigenvalues of the scaled data, explain how many variables you should keep. Justify your reasoning.\n",
    "\n",
    "Done like this, two variables should be kept as only two have eigenvalues greater than 1. "
   ]
  },
  {
   "cell_type": "code",
   "execution_count": 16,
   "id": "8c2c0be2-ea38-4f05-8918-828b4a01250e",
   "metadata": {},
   "outputs": [
    {
     "data": {
      "image/png": "[encoded data removed]",
      "text/plain": [
       "<Figure size 700x500 with 1 Axes>"
      ]
     },
     "metadata": {},
     "output_type": "display_data"
    }
   ],
   "source": [
    "# generate scree plot of the scaled data \n",
    "plt.figure(figsize=(7,5))\n",
    "plt.plot([1,2,3,4,5,6,7], CH_scaled_pca_result.explained_variance_ratio_, '-o')\n",
    "plt.ylabel('Proportion of Variance Explained') \n",
    "plt.xlabel('Principal Component') \n",
    "plt.xlim(0.75,4.25) \n",
    "plt.ylim(0,1.05) \n",
    "plt.xticks([1,2,3,4,5,6,7])\n",
    "\n",
    "plt.show()"
   ]
  },
  {
   "cell_type": "markdown",
   "id": "004756ee-0735-49df-be45-7ce69669f873",
   "metadata": {},
   "source": [
    "## Based on the scree plot of the scaled data, how many variables should you keep? Why?\n",
    "\n",
    "Well, that looks a bit different. Using the scaled data it looks like we should keep two variables and this curve flattens out starting with component 3.  \n",
    "\n",
    "I hope I did this correctly. Either way: neat!"
   ]
  },
  {
   "cell_type": "markdown",
   "id": "42351131-df0a-499e-9119-b02946d574f3",
   "metadata": {},
   "source": [
    "# Clustering in Python"
   ]
  },
  {
   "cell_type": "markdown",
   "id": "e396192f-8656-4dd6-8156-9cc59a38334f",
   "metadata": {},
   "source": [
    "## Conduct a k-means cluster analysis for the numerical data. Choose a value of k and run your analysis."
   ]
  },
  {
   "cell_type": "code",
   "execution_count": 17,
   "id": "e83dffa9-365c-457e-8198-449b3eb6bacf",
   "metadata": {},
   "outputs": [
    {
     "name": "stdout",
     "output_type": "stream",
     "text": [
      "<class 'pandas.core.frame.DataFrame'>\n",
      "RangeIndex: 61 entries, 0 to 60\n",
      "Data columns (total 10 columns):\n",
      " #   Column       Non-Null Count  Dtype  \n",
      "---  ------       --------------  -----  \n",
      " 0   TypeControl  61 non-null     object \n",
      " 1   Teaching     61 non-null     object \n",
      " 2   DonorType    61 non-null     object \n",
      " 3   NoFTE        61 non-null     float64\n",
      " 4   NetPatRev    61 non-null     float64\n",
      " 5   InOperExp    61 non-null     float64\n",
      " 6   OutOperExp   61 non-null     float64\n",
      " 7   OperRev      61 non-null     int64  \n",
      " 8   OperInc      61 non-null     int64  \n",
      " 9   AvlBeds      61 non-null     int64  \n",
      "dtypes: float64(4), int64(3), object(3)\n",
      "memory usage: 4.9+ KB\n"
     ]
    }
   ],
   "source": [
    "Cali_Hospital_df_2.info()"
   ]
  },
  {
   "cell_type": "code",
   "execution_count": 19,
   "id": "e4e973a0-0d99-4a59-a61b-525c577581dd",
   "metadata": {},
   "outputs": [
    {
     "name": "stdout",
     "output_type": "stream",
     "text": [
      "<class 'pandas.core.frame.DataFrame'>\n",
      "RangeIndex: 61 entries, 0 to 60\n",
      "Data columns (total 10 columns):\n",
      " #   Column       Non-Null Count  Dtype   \n",
      "---  ------       --------------  -----   \n",
      " 0   TypeControl  61 non-null     category\n",
      " 1   Teaching     61 non-null     category\n",
      " 2   DonorType    61 non-null     category\n",
      " 3   NoFTE        61 non-null     float64 \n",
      " 4   NetPatRev    61 non-null     float64 \n",
      " 5   InOperExp    61 non-null     float64 \n",
      " 6   OutOperExp   61 non-null     float64 \n",
      " 7   OperRev      61 non-null     int64   \n",
      " 8   OperInc      61 non-null     int64   \n",
      " 9   AvlBeds      61 non-null     int64   \n",
      "dtypes: category(3), float64(4), int64(3)\n",
      "memory usage: 4.1 KB\n"
     ]
    }
   ],
   "source": [
    "# convert to categorical datatype\n",
    "Cali_Hospital_df_2['Teaching'] = Cali_Hospital_df_2['Teaching'].astype('category')\n",
    "Cali_Hospital_df_2['TypeControl'] = Cali_Hospital_df_2['TypeControl'].astype('category')\n",
    "Cali_Hospital_df_2['DonorType'] = Cali_Hospital_df_2['DonorType'].astype('category')\n",
    "Cali_Hospital_df_2.info()"
   ]
  },
  {
   "cell_type": "code",
   "execution_count": 45,
   "id": "d1d3ab06-b937-4add-b2b0-15d6ae04ae1f",
   "metadata": {},
   "outputs": [
    {
     "name": "stderr",
     "output_type": "stream",
     "text": [
      "C:\\ProgramData\\anaconda3\\Lib\\site-packages\\sklearn\\cluster\\_kmeans.py:1429: UserWarning: KMeans is known to have a memory leak on Windows with MKL, when there are less chunks than available threads. You can avoid it by setting the environment variable OMP_NUM_THREADS=1.\n",
      "  warnings.warn(\n"
     ]
    },
    {
     "data": {
      "text/plain": [
       "array([0, 0, 0, 0, 0, 0, 0, 0, 0, 0, 0, 0, 0, 0, 0, 0, 0, 0, 0, 0, 0, 0,\n",
       "       0, 0, 0, 0, 0, 0, 0, 0, 0, 0, 0, 0, 0, 0, 0, 0, 0, 0, 0, 0, 0, 0,\n",
       "       2, 0, 2, 0, 0, 2, 2, 2, 2, 2, 2, 1, 2, 2, 1, 2, 1])"
      ]
     },
     "execution_count": 45,
     "metadata": {},
     "output_type": "execute_result"
    }
   ],
   "source": [
    "# Run Kmeans analysis on numerical data using 3 clusters \n",
    "km_3 = cls.KMeans(n_clusters=3).fit(Cali_Hospital_df_2.loc[:, ['NoFTE', 'NetPatRev', 'InOperExp', 'OutOperExp', 'OperRev', 'OperInc', 'AvlBeds']])\n",
    "\n",
    "# assigned clusters\n",
    "km_3.labels_"
   ]
  },
  {
   "cell_type": "markdown",
   "id": "a7d36e4f-0c47-4c7f-96b8-937168939826",
   "metadata": {},
   "source": [
    "## Justify your choice of k.\n",
    "\n",
    "I tried a bunch of k numbers, and 3 seems to provide the best grouping. I then retried 4, and the grouping for 3 seemed to be better. Also, no 4's appears at all, so... 3?! Yeah, 3. 3 is the magic number, right? "
   ]
  },
  {
   "cell_type": "markdown",
   "id": "813bbf92-b968-4980-819d-08c83b1a9946",
   "metadata": {},
   "source": [
    "## Create a confusion matrix for each of the three categorical variables (e.g., `Teaching`, `TypeControl`, `DonorType`). "
   ]
  },
  {
   "cell_type": "code",
   "execution_count": 50,
   "id": "344f9f88-7958-475d-9a94-b2b9ed3f9cab",
   "metadata": {},
   "outputs": [],
   "source": [
    "# So, I kept getting errors here when trying to create the confusion matrix. The error was \"ValueError: Mix of label input types (string and number).\" \n",
    "#This confused the crap out of me becuase you did it in the tutorial with a mix of catagorical and numerical data in kmeans_df. So, I asked ChatGPT.\n",
    "#It suggested I do this so that the input types aren't mixed. I hope this wasn't dumb. Either way, I get to learn something! (Eventually...)\n",
    "\n",
    "# Encode TypeControl to numeric labels\n",
    "le_teaching = LabelEncoder()\n",
    "le_typecontrol = LabelEncoder()\n",
    "le_donortype = LabelEncoder()\n",
    "\n",
    "# Encode columns in-place or to new columns\n",
    "Cali_Hospital_df_2['Teaching'] = le_teaching.fit_transform(Cali_Hospital_df_2['Teaching'])\n",
    "Cali_Hospital_df_2['TypeControl'] = le_typecontrol.fit_transform(Cali_Hospital_df_2['TypeControl'])\n",
    "Cali_Hospital_df_2['DonorType'] = le_donortype.fit_transform(Cali_Hospital_df_2['DonorType'])"
   ]
  },
  {
   "cell_type": "markdown",
   "id": "71b1ffe0-0d8e-4acd-9ab3-7282290899e1",
   "metadata": {},
   "source": [
    "### Teaching"
   ]
  },
  {
   "cell_type": "code",
   "execution_count": 51,
   "id": "182e2814-4946-4313-82fd-5492282bb70c",
   "metadata": {},
   "outputs": [
    {
     "data": {
      "text/plain": [
       "array([[44,  0,  0],\n",
       "       [ 3,  3, 11],\n",
       "       [ 0,  0,  0]], dtype=int64)"
      ]
     },
     "execution_count": 51,
     "metadata": {},
     "output_type": "execute_result"
    }
   ],
   "source": [
    "# confusion matrix - numerical representation\n",
    "cm_Teaching = metcs.confusion_matrix(Cali_Hospital_df_2.Teaching, km_3.labels_)\n",
    "cm_Teaching"
   ]
  },
  {
   "cell_type": "code",
   "execution_count": 52,
   "id": "3a1d4d2f-2028-4723-8a29-3fdd5e364720",
   "metadata": {},
   "outputs": [
    {
     "data": {
      "image/png": "[encoded data removed]",
      "text/plain": [
       "<Figure size 480x480 with 1 Axes>"
      ]
     },
     "metadata": {},
     "output_type": "display_data"
    }
   ],
   "source": [
    "# confusion matrix - graphical representation\n",
    "plt.matshow(cm_Teaching)\n",
    "plt.title('Confusion Matrix')\n",
    "plt.xlabel('Actual Value')\n",
    "plt.ylabel('Predicted Value')\n",
    "plt.xticks([0,1,2], ['A','B','C'])\n",
    "\n",
    "plt.show()"
   ]
  },
  {
   "cell_type": "markdown",
   "id": "eaffb663-9c4e-40d7-a86f-7b9977cc4c41",
   "metadata": {},
   "source": [
    "### TypeControl"
   ]
  },
  {
   "cell_type": "code",
   "execution_count": 53,
   "id": "4b56081d-50fc-4753-8cd7-84e0124afc45",
   "metadata": {},
   "outputs": [
    {
     "data": {
      "text/plain": [
       "array([[ 3,  0,  4,  0],\n",
       "       [14,  0,  0,  0],\n",
       "       [ 3,  0,  0,  0],\n",
       "       [27,  3,  7,  0]], dtype=int64)"
      ]
     },
     "execution_count": 53,
     "metadata": {},
     "output_type": "execute_result"
    }
   ],
   "source": [
    "# confusion matrix - numerical representation\n",
    "cm_TypeControl = metcs.confusion_matrix(Cali_Hospital_df_2.TypeControl, km_3.labels_)\n",
    "cm_TypeControl"
   ]
  },
  {
   "cell_type": "code",
   "execution_count": 55,
   "id": "2c83acd2-09b8-46bd-a5e8-7060ade6b06f",
   "metadata": {},
   "outputs": [
    {
     "data": {
      "image/png": "[encoded data removed]",
      "text/plain": [
       "<Figure size 480x480 with 1 Axes>"
      ]
     },
     "metadata": {},
     "output_type": "display_data"
    }
   ],
   "source": [
    "# confusion matrix - graphical representation\n",
    "plt.matshow(cm_TypeControl)\n",
    "plt.title('Confusion Matrix')\n",
    "plt.xlabel('Actual Value')\n",
    "plt.ylabel('Predicted Value')\n",
    "plt.xticks([0,1,2, 3], ['A','B','C', 'D'])\n",
    "\n",
    "plt.show()"
   ]
  },
  {
   "cell_type": "markdown",
   "id": "fca9e8e2-9d4e-46d3-aced-79af9d350d8f",
   "metadata": {},
   "source": [
    "### DonorType"
   ]
  },
  {
   "cell_type": "code",
   "execution_count": 56,
   "id": "a3e6944a-738c-47dd-a346-a261bc9d00a8",
   "metadata": {},
   "outputs": [
    {
     "data": {
      "text/plain": [
       "array([[ 3,  3, 11],\n",
       "       [44,  0,  0],\n",
       "       [ 0,  0,  0]], dtype=int64)"
      ]
     },
     "execution_count": 56,
     "metadata": {},
     "output_type": "execute_result"
    }
   ],
   "source": [
    "# confusion matrix - numerical representation\n",
    "cm_DonorType = metcs.confusion_matrix(Cali_Hospital_df_2.DonorType, km_3.labels_)\n",
    "cm_DonorType"
   ]
  },
  {
   "cell_type": "code",
   "execution_count": 57,
   "id": "fe413818-5f5b-45f6-a2d4-d3875ea18c07",
   "metadata": {},
   "outputs": [
    {
     "data": {
      "image/png": "[encoded data removed]",
      "text/plain": [
       "<Figure size 480x480 with 1 Axes>"
      ]
     },
     "metadata": {},
     "output_type": "display_data"
    }
   ],
   "source": [
    "# confusion matrix - graphical representation\n",
    "plt.matshow(cm_DonorType)\n",
    "plt.title('Confusion Matrix')\n",
    "plt.xlabel('Actual Value')\n",
    "plt.ylabel('Predicted Value')\n",
    "plt.xticks([0,1,2], ['A','B','C'])\n",
    "\n",
    "plt.show()"
   ]
  },
  {
   "cell_type": "markdown",
   "id": "47f6b839-9b9e-4133-a55d-d54603cdd08e",
   "metadata": {},
   "source": [
    "## Determine which of the three variables is the best grouping variable. Why do you think it is the best fitting?\n",
    "\n",
    "I... don't have any idea. I am going to go with my gut and say TypeControl? I am so lost. But, I made the functions work, so that's something, right?"
   ]
  },
  {
   "cell_type": "markdown",
   "id": "4563b106-a0c8-4cc9-86dd-12b122d5cde5",
   "metadata": {},
   "source": [
    "# References"
   ]
  },
  {
   "cell_type": "markdown",
   "id": "58f8c4e7-b38d-418f-a4a9-a56abaf21842",
   "metadata": {},
   "source": [
    "This ChatGPT exchange was used to help figure out the error I was getting with the confusion matrix.  \n",
    "\n",
    "<div><center><img src = \"assets/confustion_matrix_error.png\"></center></div>  \n"
   ]
  },
  {
   "cell_type": "code",
   "execution_count": null,
   "id": "32cf1fd5-405d-43ca-93f1-739f4b1abf16",
   "metadata": {},
   "outputs": [],
   "source": []
  }
 ],
 "metadata": {
  "kernelspec": {
   "display_name": "Python [conda env:base] *",
   "language": "python",
   "name": "conda-base-py"
  },
  "language_info": {
   "codemirror_mode": {
    "name": "ipython",
    "version": 3
   },
   "file_extension": ".py",
   "mimetype": "text/x-python",
   "name": "python",
   "nbconvert_exporter": "python",
   "pygments_lexer": "ipython3",
   "version": "3.12.7"
  }
 },
 "nbformat": 4,
 "nbformat_minor": 5
}
