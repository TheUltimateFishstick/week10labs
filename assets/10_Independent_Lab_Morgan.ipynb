{
 "cells": [
  {
   "cell_type": "markdown",
   "id": "303b3a8a-932a-4970-a954-9535e6ffb7a9",
   "metadata": {},
   "source": [
    "Troy Morgan  \n",
    "Week 10 Independent Lab  \n",
    "BGEN 632, Graduate Introduction to Python  \n",
    "Submitted      \n",
    "\n",
    "Independent Lab: Decision Trees"
   ]
  },
  {
   "cell_type": "markdown",
   "id": "82dd2049-8a91-48ad-b039-0b815451f355",
   "metadata": {},
   "source": [
    "# Setup"
   ]
  },
  {
   "cell_type": "code",
   "execution_count": 2,
   "id": "d88a37c3-7075-441c-a40a-3ec5c816ce0b",
   "metadata": {},
   "outputs": [],
   "source": [
    "# Import modules\n",
    "\n",
    "import os\n",
    "import numpy as np\n",
    "import pandas as pd\n",
    "import matplotlib.pyplot as plt\n",
    "\n",
    "from sklearn.model_selection import train_test_split\n",
    "\n",
    "# for pca\n",
    "from sklearn import preprocessing\n",
    "from sklearn.decomposition import PCA as pca\n",
    "\n",
    "# for factor analysis\n",
    "from factor_analyzer import FactorAnalyzer\n",
    "from factor_analyzer.factor_analyzer import calculate_bartlett_sphericity\n",
    "from factor_analyzer.factor_analyzer import calculate_kmo\n",
    "\n",
    "# for k-means clustering \n",
    "import sklearn.metrics as metcs\n",
    "from scipy.cluster import hierarchy as hier\n",
    "from sklearn import cluster as cls\n",
    "\n",
    "# for decision tree \n",
    "from sklearn.feature_extraction.image import grid_to_graph\n",
    "from sklearn import tree\n",
    "\n",
    "# modules for plotting trees\n",
    "from sklearn.tree import export_graphviz\n",
    "import graphviz\n",
    "from IPython.display import display"
   ]
  },
  {
   "cell_type": "code",
   "execution_count": 3,
   "id": "d809eae2-fcda-4f59-9281-69ab82e6c188",
   "metadata": {},
   "outputs": [
    {
     "data": {
      "text/plain": [
       "'C:\\\\Users\\\\troy.morgan\\\\Documents\\\\GitHub\\\\week10labs\\\\data'"
      ]
     },
     "execution_count": 3,
     "metadata": {},
     "output_type": "execute_result"
    }
   ],
   "source": [
    "# set working directory\n",
    "os.chdir(\"\\\\Users\\\\troy.morgan\\\\Documents\\\\GitHub\\\\week10labs/data\")  # change this to your filepath\n",
    "os.getcwd()  # confirm change"
   ]
  },
  {
   "cell_type": "code",
   "execution_count": 4,
   "id": "ff7c3a4b-7bb8-4de8-bdea-40b124bb7f77",
   "metadata": {},
   "outputs": [
    {
     "name": "stdout",
     "output_type": "stream",
     "text": [
      "<class 'pandas.core.frame.DataFrame'>\n",
      "RangeIndex: 61 entries, 0 to 60\n",
      "Data columns (total 23 columns):\n",
      " #   Column         Non-Null Count  Dtype  \n",
      "---  ------         --------------  -----  \n",
      " 0   HospitalID     61 non-null     int64  \n",
      " 1   Name           61 non-null     object \n",
      " 2   Zip            61 non-null     object \n",
      " 3   Website        61 non-null     object \n",
      " 4   TypeControl    61 non-null     object \n",
      " 5   Teaching       61 non-null     object \n",
      " 6   DonorType      61 non-null     object \n",
      " 7   NoFTE          61 non-null     float64\n",
      " 8   NetPatRev      61 non-null     float64\n",
      " 9   InOperExp      61 non-null     float64\n",
      " 10  OutOperExp     61 non-null     float64\n",
      " 11  OperRev        61 non-null     int64  \n",
      " 12  OperInc        61 non-null     int64  \n",
      " 13  AvlBeds        61 non-null     int64  \n",
      " 14  Work_ID        61 non-null     int64  \n",
      " 15  LastName       61 non-null     object \n",
      " 16  FirstName      61 non-null     object \n",
      " 17  Gender         61 non-null     object \n",
      " 18  PositionID     61 non-null     int64  \n",
      " 19  PositionTitle  61 non-null     object \n",
      " 20  Compensation   61 non-null     int64  \n",
      " 21  MaxTerm        61 non-null     int64  \n",
      " 22  StartDate      61 non-null     object \n",
      "dtypes: float64(4), int64(8), object(11)\n",
      "memory usage: 11.1+ KB\n"
     ]
    }
   ],
   "source": [
    "# Load data and inspect\n",
    "Cali_Hospital_df = pd.read_table('calihospital.txt')\n",
    "Cali_Hospital_df.info()"
   ]
  },
  {
   "cell_type": "markdown",
   "id": "2d282bcc-09ad-4c6c-890c-29c791c66fc5",
   "metadata": {},
   "source": [
    "# Classification Trees and Regression Trees"
   ]
  },
  {
   "cell_type": "code",
   "execution_count": null,
   "id": "7b18b73f-8ea5-492f-8347-2e61a274f303",
   "metadata": {},
   "outputs": [],
   "source": []
  }
 ],
 "metadata": {
  "kernelspec": {
   "display_name": "Python 3 (ipykernel)",
   "language": "python",
   "name": "python3"
  },
  "language_info": {
   "codemirror_mode": {
    "name": "ipython",
    "version": 3
   },
   "file_extension": ".py",
   "mimetype": "text/x-python",
   "name": "python",
   "nbconvert_exporter": "python",
   "pygments_lexer": "ipython3",
   "version": "3.12.7"
  }
 },
 "nbformat": 4,
 "nbformat_minor": 5
}
